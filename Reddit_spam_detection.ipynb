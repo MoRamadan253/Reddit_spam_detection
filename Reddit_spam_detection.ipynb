{
  "cells": [
    {
      "cell_type": "markdown",
      "metadata": {
        "id": "view-in-github",
        "colab_type": "text"
      },
      "source": [
        "<a href=\"https://colab.research.google.com/github/MoRamadan253/Reddit_spam_detection/blob/main/Reddit_spam_detection.ipynb\" target=\"_parent\"><img src=\"https://colab.research.google.com/assets/colab-badge.svg\" alt=\"Open In Colab\"/></a>"
      ]
    },
    {
      "cell_type": "code",
      "execution_count": null,
      "metadata": {
        "id": "DuUs4gHnX5Xg",
        "outputId": "443cbebf-7862-43f7-bf96-b9fc93218667"
      },
      "outputs": [
        {
          "name": "stdout",
          "output_type": "stream",
          "text": [
            "Collecting xgboost\n",
            "  Downloading xgboost-1.5.2-py3-none-win_amd64.whl (106.6 MB)\n",
            "Requirement already satisfied: scipy in c:\\anaconda\\lib\\site-packages (from xgboost) (1.7.1)\n",
            "Requirement already satisfied: numpy in c:\\anaconda\\lib\\site-packages (from xgboost) (1.20.3)\n",
            "Installing collected packages: xgboost\n",
            "Successfully installed xgboost-1.5.2\n"
          ]
        }
      ],
      "source": [
        "!pip install xgboost"
      ]
    },
    {
      "cell_type": "code",
      "execution_count": null,
      "metadata": {
        "id": "s5P7WU5Livwr"
      },
      "outputs": [],
      "source": [
        "import re\n",
        "import pickle\n",
        "import sklearn\n",
        "import pandas as pd\n",
        "import numpy as np\n",
        "import nltk \n",
        "from bokeh.io import output_notebook\n",
        "output_notebook()\n",
        "\n",
        "from pathlib import Path\n",
        "\n",
        "# some seeting for pandas and hvplot\n",
        "\n",
        "pd.options.display.max_columns = 100\n",
        "pd.options.display.max_rows = 300\n",
        "pd.options.display.max_colwidth = 100\n",
        "np.set_printoptions(threshold=2000)"
      ]
    },
    {
      "cell_type": "code",
      "execution_count": null,
      "metadata": {
        "colab": {
          "base_uri": "https://localhost:8080/"
        },
        "id": "DGj3T4bTjdym",
        "outputId": "e2a7e53b-ea88-4191-f5f8-b251a555117a"
      },
      "outputs": [
        {
          "output_type": "stream",
          "name": "stdout",
          "text": [
            "[nltk_data] Downloading package wordnet to /root/nltk_data...\n",
            "[nltk_data]   Unzipping corpora/wordnet.zip.\n",
            "[nltk_data] Downloading package punkt to /root/nltk_data...\n",
            "[nltk_data]   Unzipping tokenizers/punkt.zip.\n",
            "[nltk_data] Downloading package stopwords to /root/nltk_data...\n",
            "[nltk_data]   Unzipping corpora/stopwords.zip.\n"
          ]
        }
      ],
      "source": [
        "from sklearn.model_selection import train_test_split\n",
        "from sklearn.feature_extraction.text import TfidfVectorizer\n",
        "from sklearn.linear_model import LogisticRegression\n",
        "from sklearn.svm import LinearSVC\n",
        "from sklearn.ensemble import RandomForestClassifier\n",
        "from sklearn.neural_network import MLPClassifier\n",
        "from sklearn.pipeline import Pipeline\n",
        "from sklearn.model_selection import GridSearchCV, RandomizedSearchCV\n",
        "from xgboost import XGBClassifier\n",
        "from nltk.stem.snowball import SnowballStemmer\n",
        "from nltk.tokenize import word_tokenize\n",
        "from nltk.corpus import stopwords\n",
        "from nltk.stem import WordNetLemmatizer\n",
        "\n",
        "from sklearn.model_selection import PredefinedSplit"
      ]
    },
    {
      "cell_type": "code",
      "execution_count": null,
      "metadata": {
        "id": "iv7ARGa7je6Y"
      },
      "outputs": [],
      "source": [
        "data = pd.read_csv(\"xy_train.csv\")\n",
        "dftest = pd.read_csv('x_test.csv')\n"
      ]
    },
    {
      "cell_type": "markdown",
      "metadata": {
        "id": "Kpbppwump0ka"
      },
      "source": [
        "Since its classification either fake data or not, means its 1 or 0, so the 2 here is an outlier and can be dropped."
      ]
    },
    {
      "cell_type": "code",
      "execution_count": null,
      "metadata": {
        "colab": {
          "base_uri": "https://localhost:8080/"
        },
        "id": "-w8ig4CapM5E",
        "outputId": "9900910c-9fc4-43d5-9138-d263f5457143"
      },
      "outputs": [
        {
          "output_type": "execute_result",
          "data": {
            "text/plain": [
              "0    32172\n",
              "1    27596\n",
              "2      232\n",
              "Name: label, dtype: int64"
            ]
          },
          "metadata": {},
          "execution_count": 14
        }
      ],
      "source": [
        "data['label'].value_counts(dropna=False)"
      ]
    },
    {
      "cell_type": "code",
      "execution_count": null,
      "metadata": {
        "id": "4B0nf7RYpwqD"
      },
      "outputs": [],
      "source": [
        "data = data[data.label != 2]"
      ]
    },
    {
      "cell_type": "code",
      "execution_count": null,
      "metadata": {
        "id": "WyApRLOZqek1"
      },
      "outputs": [],
      "source": [
        "stemmer = SnowballStemmer(\"english\")\n",
        "stop_words = set(stopwords.words(\"english\"))\n",
        "\n",
        "def clean_text_stem(text):\n",
        "\n",
        "    RE_WSPACE = re.compile(r\"\\s+\", re.IGNORECASE)\n",
        "    RE_TAGS = re.compile(r\"<[^>]+>\")\n",
        "    RE_ASCII = re.compile(r\"[^A-Za-zÀ-ž ]\", re.IGNORECASE)\n",
        "    RE_SINGLECHAR = re.compile(r\"\\b[A-Za-zÀ-ž]\\b\", re.IGNORECASE)\n",
        "\n",
        "    text = re.sub(RE_TAGS, \" \", text)\n",
        "    text = re.sub(RE_ASCII, \" \", text)\n",
        "    text = re.sub(RE_SINGLECHAR, \" \", text)\n",
        "    text = re.sub(RE_WSPACE, \" \", text)\n",
        "\n",
        "    word_tokens = word_tokenize(text)\n",
        "    words_tokens_lower = [word.lower() for word in word_tokens]\n",
        "\n",
        "    words_filtered = [\n",
        "            stemmer.stem(word) for word in words_tokens_lower if word not in stop_words\n",
        "        ]\n",
        "\n",
        "    text_clean = \" \".join(words_filtered)\n",
        "    return text_clean"
      ]
    },
    {
      "cell_type": "code",
      "execution_count": null,
      "metadata": {
        "id": "IWYp7QfOwEzI"
      },
      "outputs": [],
      "source": [
        "lemmatizer = WordNetLemmatizer()\n",
        "stop_words = set(stopwords.words(\"english\"))\n",
        "\n",
        "def clean_text_lemm(text):\n",
        "\n",
        "    RE_WSPACE = re.compile(r\"\\s+\", re.IGNORECASE)\n",
        "    RE_TAGS = re.compile(r\"<[^>]+>\")\n",
        "    RE_ASCII = re.compile(r\"[^A-Za-zÀ-ž ]\", re.IGNORECASE)\n",
        "    RE_SINGLECHAR = re.compile(r\"\\b[A-Za-zÀ-ž]\\b\", re.IGNORECASE)\n",
        "\n",
        "    text = re.sub(RE_TAGS, \" \", text)\n",
        "    text = re.sub(RE_ASCII, \" \", text)\n",
        "    text = re.sub(RE_SINGLECHAR, \" \", text)\n",
        "    text = re.sub(RE_WSPACE, \" \", text)\n",
        "\n",
        "    word_tokens = word_tokenize(text)\n",
        "    words_tokens_lower = [word.lower() for word in word_tokens]\n",
        "\n",
        "    words_filtered = [\n",
        "            lemmatizer.lemmatize(word) for word in words_tokens_lower if word not in stop_words\n",
        "        ]\n",
        "\n",
        "    text_clean = \" \".join(words_filtered)\n",
        "    return text_clean"
      ]
    },
    {
      "cell_type": "code",
      "execution_count": null,
      "metadata": {
        "id": "CpEpDzmc3M7M"
      },
      "outputs": [],
      "source": [
        "def clean_char(text):\n",
        "\n",
        "    RE_WSPACE = re.compile(r\"\\s+\", re.IGNORECASE)\n",
        "    RE_TAGS = re.compile(r\"<[^>]+>\")\n",
        "    RE_ASCII = re.compile(r\"[^A-Za-zÀ-ž ]\", re.IGNORECASE)\n",
        "    RE_SINGLECHAR = re.compile(r\"\\b[A-Za-zÀ-ž]\\b\", re.IGNORECASE)\n",
        "\n",
        "    text = re.sub(RE_TAGS, \" \", text)\n",
        "    text = re.sub(RE_ASCII, \" \", text)\n",
        "    text = re.sub(RE_SINGLECHAR, \" \", text)\n",
        "    text = re.sub(RE_WSPACE, \" \", text)\n",
        "\n",
        "    word_tokens = word_tokenize(text)\n",
        "    words_tokens_lower = [word.lower() for word in word_tokens]\n",
        "\n",
        "\n",
        "    text_clean = \" \".join(words_tokens_lower)\n",
        "    return text_clean"
      ]
    },
    {
      "cell_type": "code",
      "execution_count": null,
      "metadata": {
        "id": "x1ZsQ7k-wd58"
      },
      "outputs": [],
      "source": [
        "data[\"text_clean\"] = data[\"text\"].map(lambda x: clean_text_stem(x))\n",
        "dftest[\"text_clean\"] = dftest[\"text\"].map(lambda x: clean_text_stem(x))"
      ]
    },
    {
      "cell_type": "code",
      "execution_count": null,
      "metadata": {
        "colab": {
          "base_uri": "https://localhost:8080/"
        },
        "id": "IBJbpz1Jy85N",
        "outputId": "a529ec0d-268e-46e6-b0d0-ed8ab822369c"
      },
      "outputs": [
        {
          "output_type": "stream",
          "name": "stdout",
          "text": [
            "(44826,)\n",
            "(14942,)\n"
          ]
        }
      ],
      "source": [
        "train, test = train_test_split(data, random_state=1, test_size=0.25, shuffle=True)\n",
        "\n",
        "X_train = train[\"text_clean\"]\n",
        "Y_train = train[\"label\"]\n",
        "X_test = test[\"text_clean\"]\n",
        "Y_test = test[\"label\"]\n",
        "print(X_train.shape)\n",
        "print(X_test.shape)"
      ]
    },
    {
      "cell_type": "code",
      "execution_count": null,
      "metadata": {
        "id": "dfSPGKh72ADh"
      },
      "outputs": [],
      "source": [
        "X_train2, X_val, y_train2, y_val = train_test_split(\n",
        "    X_train, Y_train, train_size = 0.8, stratify = Y_train, random_state = 2022)\n",
        "split_index = [-1 if x in X_train2.index else 0 for x in X_train.index]\n",
        "pds = PredefinedSplit(test_fold = split_index)"
      ]
    },
    {
      "cell_type": "code",
      "execution_count": null,
      "metadata": {
        "id": "xu14Suh-X5Xq"
      },
      "outputs": [],
      "source": [
        "full_pipline = Pipeline(\n",
        "    steps=[\n",
        "        (\"tfidf\", TfidfVectorizer(analyzer=\"word\",norm=\"l2\")),\n",
        "        ('my_classifier', XGBClassifier(objective='binary:logistic', seed=1),\n",
        "        )\n",
        "    ]\n",
        ")"
      ]
    },
    {
      "cell_type": "code",
      "execution_count": null,
      "metadata": {
        "colab": {
          "base_uri": "https://localhost:8080/"
        },
        "id": "UQgpz1452Ll2",
        "outputId": "3d5a1aa0-16d7-4d31-993c-0ffb617096c8"
      },
      "outputs": [
        {
          "name": "stderr",
          "output_type": "stream",
          "text": [
            "C:\\Anaconda\\lib\\site-packages\\xgboost\\sklearn.py:1224: UserWarning: The use of label encoder in XGBClassifier is deprecated and will be removed in a future release. To remove this warning, do the following: 1) Pass option use_label_encoder=False when constructing XGBClassifier object; and 2) Encode your labels (y) as integers starting with 0, i.e. 0, 1, 2, ..., [num_class - 1].\n",
            "  warnings.warn(label_encoder_deprecation_msg, UserWarning)\n"
          ]
        },
        {
          "name": "stdout",
          "output_type": "stream",
          "text": [
            "[13:24:18] WARNING: C:/Users/Administrator/workspace/xgboost-win64_release_1.5.1/src/learner.cc:1115: Starting in XGBoost 1.3.0, the default evaluation metric used with the objective 'binary:logistic' was changed from 'error' to 'logloss'. Explicitly set eval_metric if you'd like to restore the old behavior.\n",
            "best score 0.8301098383723431\n",
            "best params {'tfidf__max_df': 0.3, 'tfidf__min_df': 13, 'tfidf__ngram_range': (1, 2)}\n"
          ]
        }
      ],
      "source": [
        "params = {\n",
        "    \"tfidf__ngram_range\": [(1,2),(1,3),(1,4)],\n",
        "    \"tfidf__max_df\": [0.3,0.4,0.5,0.6,0.8],\n",
        "    \"tfidf__min_df\": [13,14,15,16,17],\n",
        "}\n",
        "\n",
        "pipe_clf = GridSearchCV(\n",
        "    full_pipline, params, n_jobs=-1,cv=pds, scoring=\"roc_auc\")\n",
        "pipe_clf.fit(X_train, Y_train)\n",
        "print('best score {}'.format(pipe_clf.best_score_))\n",
        "print('best params {}'.format(pipe_clf.best_params_))"
      ]
    },
    {
      "cell_type": "code",
      "execution_count": null,
      "metadata": {
        "id": "LXrKaNKW5Lko"
      },
      "outputs": [],
      "source": [
        "param_grid2 = {\n",
        "    \"tfidf__ngram_range\": [(1, 2)],\n",
        "    \"tfidf__max_df\": [0.3],\n",
        "    \"tfidf__min_df\": [13],\n",
        "    'my_classifier__learning_rate': [0.3,0.35,0.4],\n",
        "    'my_classifier__max_depth': [45,50],\n",
        "    'my_classifier__min_child_weight':[5,7],\n",
        "    'my_classifier__gamma': [1,2],\n",
        "    'my_classifier__colsample_bytree': [1],\n",
        "}\n"
      ]
    },
    {
      "cell_type": "code",
      "execution_count": null,
      "metadata": {
        "id": "20Jy5XijX5Xq",
        "outputId": "f744f0af-f715-4c2e-ae83-ec288b3505bb"
      },
      "outputs": [
        {
          "name": "stdout",
          "output_type": "stream",
          "text": [
            "Fitting 1 folds for each of 24 candidates, totalling 24 fits\n",
            "[13:28:59] WARNING: C:/Users/Administrator/workspace/xgboost-win64_release_1.5.1/src/learner.cc:1115: Starting in XGBoost 1.3.0, the default evaluation metric used with the objective 'binary:logistic' was changed from 'error' to 'logloss'. Explicitly set eval_metric if you'd like to restore the old behavior.\n",
            "best score 0.7657818425161722\n",
            "best params {'my_classifier__colsample_bytree': 1, 'my_classifier__gamma': 2, 'my_classifier__learning_rate': 0.3, 'my_classifier__max_depth': 50, 'my_classifier__min_child_weight': 5, 'tfidf__max_df': 0.3, 'tfidf__min_df': 13, 'tfidf__ngram_range': (1, 2)}\n"
          ]
        }
      ],
      "source": [
        "grid_searchxgb =  GridSearchCV(\n",
        "    full_pipline, param_grid2, cv=pds, verbose=1, n_jobs=2)\n",
        "grid_searchxgb.fit(X_train, Y_train)\n",
        "print('best score {}'.format(grid_searchxgb.best_score_))\n",
        "print('best params {}'.format(grid_searchxgb.best_params_))"
      ]
    },
    {
      "cell_type": "code",
      "execution_count": null,
      "metadata": {
        "colab": {
          "base_uri": "https://localhost:8080/"
        },
        "id": "sW4IWsqQCght",
        "outputId": "dcd0c9b7-4bfa-446e-9047-435d3e0ce91d"
      },
      "outputs": [
        {
          "name": "stdout",
          "output_type": "stream",
          "text": [
            "Fitting 1 folds for each of 10 candidates, totalling 10 fits\n",
            "[14:05:04] WARNING: C:/Users/Administrator/workspace/xgboost-win64_release_1.5.1/src/learner.cc:1115: Starting in XGBoost 1.3.0, the default evaluation metric used with the objective 'binary:logistic' was changed from 'error' to 'logloss'. Explicitly set eval_metric if you'd like to restore the old behavior.\n",
            "best score 0.7629935311175552\n",
            "best params {'tfidf__ngram_range': (1, 2), 'tfidf__min_df': 13, 'tfidf__max_df': 0.3, 'my_classifier__min_child_weight': 5, 'my_classifier__max_depth': 50, 'my_classifier__learning_rate': 0.35, 'my_classifier__gamma': 2, 'my_classifier__colsample_bytree': 1}\n"
          ]
        }
      ],
      "source": [
        "rand_searchxgb =  RandomizedSearchCV(\n",
        "    full_pipline, param_grid2, cv=pds, verbose=1, n_jobs=2)\n",
        "rand_searchxgb.fit(X_train, Y_train)\n",
        "print('best score {}'.format(rand_searchxgb.best_score_))\n",
        "print('best params {}'.format(rand_searchxgb.best_params_))"
      ]
    }
  ],
  "metadata": {
    "colab": {
      "collapsed_sections": [],
      "provenance": [],
      "include_colab_link": true
    },
    "kernelspec": {
      "display_name": "Python 3 (ipykernel)",
      "language": "python",
      "name": "python3"
    },
    "language_info": {
      "codemirror_mode": {
        "name": "ipython",
        "version": 3
      },
      "file_extension": ".py",
      "mimetype": "text/x-python",
      "name": "python",
      "nbconvert_exporter": "python",
      "pygments_lexer": "ipython3",
      "version": "3.9.7"
    }
  },
  "nbformat": 4,
  "nbformat_minor": 0
}